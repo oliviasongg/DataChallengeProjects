{
 "cells": [
  {
   "cell_type": "markdown",
   "metadata": {},
   "source": [
    "Source: https://product-data-science.datamasked.com/courses/496549/lectures/9194603"
   ]
  },
  {
   "cell_type": "markdown",
   "metadata": {},
   "source": [
    "### Goal"
   ]
  },
  {
   "cell_type": "markdown",
   "metadata": {},
   "source": [
    "The goal is to perform funnel analysis for an e-commerce website.\n",
    "\n",
    "Typically, websites have a clear path to conversion: for instance, you land on the home page, then you search, select a product and buy it. At each of these steps, some users will drop off and leave the site. The sequence of pages that leads to conversion is called ‘funnel’ .\n",
    "\n",
    "Data Science can have a tremendous impact on funnel optimization.\n",
    "Funnel analysis allows to understand where/when our users abandon the website. It gives crucial insights on user behavior and on ways to improve the user experience as well as it often allows to discover bugs."
   ]
  },
  {
   "cell_type": "markdown",
   "metadata": {},
   "source": [
    "### Challenge Description"
   ]
  },
  {
   "cell_type": "markdown",
   "metadata": {},
   "source": [
    "You are looking at data from an e-commerce website. The site is very simple and has just 4 pages:\n",
    "\n",
    "\n",
    "\n",
    "1. The first page is the home page. When you come to the site for the first time, you can only land on the home page as a first page.\n",
    "\n",
    "2. From the home page, the user can perform a search and land on the search page.\n",
    "\n",
    "3. From the search page, if the user clicks on a product, she will get to the payment page, where she is asked to provide payment information in order to buy that product.\n",
    "\n",
    "4. If she does decide to buy, she ends up on the confirmation page\n",
    "\n",
    "\n",
    "The company CEO isn’t very happy with the company sales and, especially, sales coming from new users. Therefore, she asked you to investigate whether there is something wrong in the conversion funnel or, in general, if you can create hypotheses on how conversion rate could be improved.\n",
    "\n",
    "Specifically, she is interested in :\n",
    "\n",
    "\n",
    "\n",
    "1. A full picture of funnel conversion rate for both desktop and mobile\n",
    "\n",
    "\n",
    "2. Some insights on what the product team should focus on in order to improve conversion rate as well as anything you might discover that could help improve conversion rate.\n",
    "\n"
   ]
  },
  {
   "cell_type": "markdown",
   "metadata": {},
   "source": [
    "### Data"
   ]
  },
  {
   "cell_type": "code",
   "execution_count": 2,
   "metadata": {},
   "outputs": [],
   "source": [
    "import pandas as pd\n",
    "import numpy as np\n",
    "\n",
    "home_page = pd.read_csv('data/Funnel_Analysis/home_page_table.csv')\n",
    "pay_confirm = pd.read_csv('data/Funnel_Analysis/payment_confirmation_table.csv')\n",
    "pay_page = pd.read_csv('data/Funnel_Analysis/payment_page_table.csv')\n",
    "search_page = pd.read_csv('data/Funnel_Analysis/search_page_table.csv')\n",
    "user = pd.read_csv('data/Funnel_Analysis/user_table.csv')"
   ]
  },
  {
   "cell_type": "code",
   "execution_count": 3,
   "metadata": {},
   "outputs": [
    {
     "data": {
      "text/html": [
       "<div>\n",
       "<style scoped>\n",
       "    .dataframe tbody tr th:only-of-type {\n",
       "        vertical-align: middle;\n",
       "    }\n",
       "\n",
       "    .dataframe tbody tr th {\n",
       "        vertical-align: top;\n",
       "    }\n",
       "\n",
       "    .dataframe thead th {\n",
       "        text-align: right;\n",
       "    }\n",
       "</style>\n",
       "<table border=\"1\" class=\"dataframe\">\n",
       "  <thead>\n",
       "    <tr style=\"text-align: right;\">\n",
       "      <th></th>\n",
       "      <th>user_id</th>\n",
       "      <th>date</th>\n",
       "      <th>device</th>\n",
       "      <th>sex</th>\n",
       "      <th>visit_HomePage</th>\n",
       "      <th>visit_SearchPage</th>\n",
       "      <th>visit_PayPage</th>\n",
       "      <th>visit_PayConfirmPage</th>\n",
       "    </tr>\n",
       "  </thead>\n",
       "  <tbody>\n",
       "    <tr>\n",
       "      <th>count</th>\n",
       "      <td>90400.000000</td>\n",
       "      <td>90400</td>\n",
       "      <td>90400</td>\n",
       "      <td>90400</td>\n",
       "      <td>90400.0</td>\n",
       "      <td>90400.000000</td>\n",
       "      <td>90400.000000</td>\n",
       "      <td>90400.000000</td>\n",
       "    </tr>\n",
       "    <tr>\n",
       "      <th>unique</th>\n",
       "      <td>NaN</td>\n",
       "      <td>120</td>\n",
       "      <td>2</td>\n",
       "      <td>2</td>\n",
       "      <td>NaN</td>\n",
       "      <td>NaN</td>\n",
       "      <td>NaN</td>\n",
       "      <td>NaN</td>\n",
       "    </tr>\n",
       "    <tr>\n",
       "      <th>top</th>\n",
       "      <td>NaN</td>\n",
       "      <td>2015-02-08</td>\n",
       "      <td>Desktop</td>\n",
       "      <td>Male</td>\n",
       "      <td>NaN</td>\n",
       "      <td>NaN</td>\n",
       "      <td>NaN</td>\n",
       "      <td>NaN</td>\n",
       "    </tr>\n",
       "    <tr>\n",
       "      <th>freq</th>\n",
       "      <td>NaN</td>\n",
       "      <td>877</td>\n",
       "      <td>60200</td>\n",
       "      <td>45325</td>\n",
       "      <td>NaN</td>\n",
       "      <td>NaN</td>\n",
       "      <td>NaN</td>\n",
       "      <td>NaN</td>\n",
       "    </tr>\n",
       "    <tr>\n",
       "      <th>mean</th>\n",
       "      <td>498709.683473</td>\n",
       "      <td>NaN</td>\n",
       "      <td>NaN</td>\n",
       "      <td>NaN</td>\n",
       "      <td>1.0</td>\n",
       "      <td>0.500000</td>\n",
       "      <td>0.066704</td>\n",
       "      <td>0.005000</td>\n",
       "    </tr>\n",
       "    <tr>\n",
       "      <th>std</th>\n",
       "      <td>289040.674085</td>\n",
       "      <td>NaN</td>\n",
       "      <td>NaN</td>\n",
       "      <td>NaN</td>\n",
       "      <td>0.0</td>\n",
       "      <td>0.500003</td>\n",
       "      <td>0.249509</td>\n",
       "      <td>0.070534</td>\n",
       "    </tr>\n",
       "    <tr>\n",
       "      <th>min</th>\n",
       "      <td>17.000000</td>\n",
       "      <td>NaN</td>\n",
       "      <td>NaN</td>\n",
       "      <td>NaN</td>\n",
       "      <td>1.0</td>\n",
       "      <td>0.000000</td>\n",
       "      <td>0.000000</td>\n",
       "      <td>0.000000</td>\n",
       "    </tr>\n",
       "    <tr>\n",
       "      <th>25%</th>\n",
       "      <td>247978.750000</td>\n",
       "      <td>NaN</td>\n",
       "      <td>NaN</td>\n",
       "      <td>NaN</td>\n",
       "      <td>1.0</td>\n",
       "      <td>0.000000</td>\n",
       "      <td>0.000000</td>\n",
       "      <td>0.000000</td>\n",
       "    </tr>\n",
       "    <tr>\n",
       "      <th>50%</th>\n",
       "      <td>498267.000000</td>\n",
       "      <td>NaN</td>\n",
       "      <td>NaN</td>\n",
       "      <td>NaN</td>\n",
       "      <td>1.0</td>\n",
       "      <td>0.500000</td>\n",
       "      <td>0.000000</td>\n",
       "      <td>0.000000</td>\n",
       "    </tr>\n",
       "    <tr>\n",
       "      <th>75%</th>\n",
       "      <td>749789.250000</td>\n",
       "      <td>NaN</td>\n",
       "      <td>NaN</td>\n",
       "      <td>NaN</td>\n",
       "      <td>1.0</td>\n",
       "      <td>1.000000</td>\n",
       "      <td>0.000000</td>\n",
       "      <td>0.000000</td>\n",
       "    </tr>\n",
       "    <tr>\n",
       "      <th>max</th>\n",
       "      <td>999979.000000</td>\n",
       "      <td>NaN</td>\n",
       "      <td>NaN</td>\n",
       "      <td>NaN</td>\n",
       "      <td>1.0</td>\n",
       "      <td>1.000000</td>\n",
       "      <td>1.000000</td>\n",
       "      <td>1.000000</td>\n",
       "    </tr>\n",
       "  </tbody>\n",
       "</table>\n",
       "</div>"
      ],
      "text/plain": [
       "              user_id        date   device    sex  visit_HomePage  \\\n",
       "count    90400.000000       90400    90400  90400         90400.0   \n",
       "unique            NaN         120        2      2             NaN   \n",
       "top               NaN  2015-02-08  Desktop   Male             NaN   \n",
       "freq              NaN         877    60200  45325             NaN   \n",
       "mean    498709.683473         NaN      NaN    NaN             1.0   \n",
       "std     289040.674085         NaN      NaN    NaN             0.0   \n",
       "min         17.000000         NaN      NaN    NaN             1.0   \n",
       "25%     247978.750000         NaN      NaN    NaN             1.0   \n",
       "50%     498267.000000         NaN      NaN    NaN             1.0   \n",
       "75%     749789.250000         NaN      NaN    NaN             1.0   \n",
       "max     999979.000000         NaN      NaN    NaN             1.0   \n",
       "\n",
       "        visit_SearchPage  visit_PayPage  visit_PayConfirmPage  \n",
       "count       90400.000000   90400.000000          90400.000000  \n",
       "unique               NaN            NaN                   NaN  \n",
       "top                  NaN            NaN                   NaN  \n",
       "freq                 NaN            NaN                   NaN  \n",
       "mean            0.500000       0.066704              0.005000  \n",
       "std             0.500003       0.249509              0.070534  \n",
       "min             0.000000       0.000000              0.000000  \n",
       "25%             0.000000       0.000000              0.000000  \n",
       "50%             0.500000       0.000000              0.000000  \n",
       "75%             1.000000       0.000000              0.000000  \n",
       "max             1.000000       1.000000              1.000000  "
      ]
     },
     "execution_count": 3,
     "metadata": {},
     "output_type": "execute_result"
    }
   ],
   "source": [
    "# merge the dataframes into 1\n",
    "df = user.merge(home_page, on='user_id', how='left')\n",
    "df = df.merge(search_page, on='user_id', how='left')\n",
    "df = df.merge(pay_page, on='user_id', how='left')\n",
    "df = df.merge(pay_confirm, on='user_id', how='left')\n",
    "\n",
    "# rename cols\n",
    "cols = ['user_id', 'date', 'device', 'sex', 'visit_HomePage', 'visit_SearchPage', 'visit_PayPage', 'visit_PayConfirmPage']\n",
    "df.columns = cols\n",
    "\n",
    "# replace visit as 1, NaN as 0\n",
    "df['visit_HomePage'].replace('home_page', 1, inplace=True)\n",
    "df['visit_SearchPage'].replace('search_page', 1, inplace=True)\n",
    "df['visit_PayPage'].replace('payment_page', 1, inplace=True)\n",
    "df['visit_PayConfirmPage'].replace('payment_confirmation_page', 1, inplace=True)\n",
    "\n",
    "df['visit_HomePage'] = df['visit_HomePage'].fillna(0).astype(int)\n",
    "df['visit_SearchPage'] = df['visit_SearchPage'].fillna(0).astype(int)\n",
    "df['visit_PayPage'] = df['visit_PayPage'].fillna(0).astype(int)\n",
    "df['visit_PayConfirmPage'] = df['visit_PayConfirmPage'].fillna(0).astype(int)\n",
    "\n",
    "df.describe(include='all')"
   ]
  },
  {
   "cell_type": "markdown",
   "metadata": {},
   "source": [
    "### Question 1"
   ]
  },
  {
   "cell_type": "markdown",
   "metadata": {},
   "source": [
    "A full picture of funnel conversion rate for both desktop and mobile"
   ]
  },
  {
   "cell_type": "code",
   "execution_count": 42,
   "metadata": {},
   "outputs": [
    {
     "data": {
      "text/html": [
       "<div>\n",
       "<style scoped>\n",
       "    .dataframe tbody tr th:only-of-type {\n",
       "        vertical-align: middle;\n",
       "    }\n",
       "\n",
       "    .dataframe tbody tr th {\n",
       "        vertical-align: top;\n",
       "    }\n",
       "\n",
       "    .dataframe thead th {\n",
       "        text-align: right;\n",
       "    }\n",
       "</style>\n",
       "<table border=\"1\" class=\"dataframe\">\n",
       "  <thead>\n",
       "    <tr style=\"text-align: right;\">\n",
       "      <th></th>\n",
       "      <th>visit_HomePage</th>\n",
       "      <th>visit_SearchPage</th>\n",
       "      <th>visit_PayPage</th>\n",
       "      <th>visit_PayConfirmPage</th>\n",
       "    </tr>\n",
       "    <tr>\n",
       "      <th>device</th>\n",
       "      <th></th>\n",
       "      <th></th>\n",
       "      <th></th>\n",
       "      <th></th>\n",
       "    </tr>\n",
       "  </thead>\n",
       "  <tbody>\n",
       "    <tr>\n",
       "      <th>Desktop</th>\n",
       "      <td>1.0</td>\n",
       "      <td>0.5</td>\n",
       "      <td>0.05</td>\n",
       "      <td>0.002492</td>\n",
       "    </tr>\n",
       "    <tr>\n",
       "      <th>Mobile</th>\n",
       "      <td>1.0</td>\n",
       "      <td>0.5</td>\n",
       "      <td>0.10</td>\n",
       "      <td>0.010000</td>\n",
       "    </tr>\n",
       "  </tbody>\n",
       "</table>\n",
       "</div>"
      ],
      "text/plain": [
       "         visit_HomePage  visit_SearchPage  visit_PayPage  visit_PayConfirmPage\n",
       "device                                                                        \n",
       "Desktop             1.0               0.5           0.05              0.002492\n",
       "Mobile              1.0               0.5           0.10              0.010000"
      ]
     },
     "execution_count": 42,
     "metadata": {},
     "output_type": "execute_result"
    }
   ],
   "source": [
    "grouped = df.groupby('device')[['visit_HomePage', 'visit_SearchPage', 'visit_PayPage', 'visit_PayConfirmPage']].mean()\n",
    "grouped"
   ]
  },
  {
   "cell_type": "code",
   "execution_count": 43,
   "metadata": {},
   "outputs": [
    {
     "data": {
      "text/plain": [
       "Index(['Desktop', 'Mobile'], dtype='object', name='device')"
      ]
     },
     "execution_count": 43,
     "metadata": {},
     "output_type": "execute_result"
    }
   ],
   "source": [
    "grouped.index"
   ]
  },
  {
   "cell_type": "code",
   "execution_count": 44,
   "metadata": {},
   "outputs": [
    {
     "data": {
      "image/png": "[encoded data removed]",
      "text/plain": [
       "<Figure size 648x360 with 1 Axes>"
      ]
     },
     "metadata": {
      "needs_background": "light"
     },
     "output_type": "display_data"
    }
   ],
   "source": [
    "import matplotlib.pyplot as plt\n",
    "\n",
    "# fig = plt.figure()\n",
    "# ax = fig.add_subplot(111)\n",
    "\n",
    "# grouped.visit_HomePage.plot(kind='bar')\n",
    "# grouped.visit_SearchPage.plot(kind='bar')\n",
    "ax = grouped.plot(kind='bar', figsize=(9, 5), title='Conversions for desktop and mobile')\n",
    "for tick in ax.get_xticklabels():\n",
    "    tick.set_rotation(0)\n",
    "# for i, idx in enumerate(grouped.index):\n",
    "#     for col in grouped.columns:\n",
    "#         y = grouped.iloc[i, :][col]\n",
    "#         ax.test(i, y, y)"
   ]
  },
  {
   "cell_type": "code",
   "execution_count": 46,
   "metadata": {},
   "outputs": [
    {
     "name": "stdout",
     "output_type": "stream",
     "text": [
      "Overall conversion rate for the company 0.6%\n",
      "\n",
      "\n",
      "---- Desktop ----\n",
      "50.0% of users on Home page continue to Search page\n",
      "10.0% of users on Search page continue to Pay page\n",
      "5.0% of users on Pay page continue to Pay Confirmation\n",
      "Overall conversion for desktop 0.2%\n",
      "---- Mobile ----\n",
      "50.0% of users on Home page continue to Search page\n",
      "20.0% of users on Search page continue to Pay page\n",
      "10.0% of users on Pay page continue to Pay Confirmation\n",
      "Overall conversion for mobile 1.0%\n"
     ]
    }
   ],
   "source": [
    "desktop = grouped.reset_index()[grouped.reset_index()['device'] == 'Desktop'].reset_index()\n",
    "mobile = grouped.reset_index()[grouped.reset_index()['device'] == 'Mobile'].reset_index()\n",
    "\n",
    "print('Overall conversion rate for the company {:.1%}'.format((desktop['visit_PayConfirmPage'][0] + mobile['visit_PayConfirmPage'][0]) / 2))\n",
    "print('\\n')\n",
    "print('---- Desktop ----')\n",
    "print('{:.1%} of users on Home page continue to Search page'.format(desktop['visit_SearchPage'][0]/desktop['visit_HomePage'][0]))\n",
    "print('{:.1%} of users on Search page continue to Pay page'.format(desktop['visit_PayPage'][0]/desktop['visit_SearchPage'][0]))\n",
    "print('{:.1%} of users on Pay page continue to Pay Confirmation'.format(desktop['visit_PayConfirmPage'][0]/desktop['visit_PayPage'][0]))\n",
    "print('Overall conversion for desktop {:.1%}'.format(desktop['visit_PayConfirmPage'][0]/desktop['visit_HomePage'][0]))\n",
    "\n",
    "\n",
    "print('---- Mobile ----')\n",
    "print('{:.1%} of users on Home page continue to Search page'.format(mobile['visit_SearchPage'][0]/mobile['visit_HomePage'][0]))\n",
    "print('{:.1%} of users on Search page continue to Pay page'.format(mobile['visit_PayPage'][0]/mobile['visit_SearchPage'][0]))\n",
    "print('{:.1%} of users on Pay page continue to Pay Confirmation'.format(mobile['visit_PayConfirmPage'][0]/mobile['visit_PayPage'][0]))\n",
    "print('Overall conversion for mobile {:.1%}'.format(mobile['visit_PayConfirmPage'][0]/mobile['visit_HomePage'][0]))\n"
   ]
  },
  {
   "cell_type": "markdown",
   "metadata": {},
   "source": [
    "From the data result above, we can see mobile device has a better conversion than Desktop device (1.0% vs. 0.2%). \n",
    "1. From the stage of search page to pay page, mobile device has double conversion ratio of desktop device (20% vs. 10%), so for Desktop device, check if any bugs on search page that causes the low conversion rate, or improve the search algorithms accuracy on Desktop device.\n",
    "\n",
    "2. From pay page to pay confirmation, mobile device also has double conversion ratio of desktop device (10% vs. 5%). But both ratios are not very high. So first, check if any bugs on pay page that result in payment failure for customers. Second, probably the company can send out follow-up emails for those customers who were on pay page but didn't checkout, to improve the "
   ]
  },
  {
   "cell_type": "markdown",
   "metadata": {},
   "source": [
    "### Question 2"
   ]
  },
  {
   "cell_type": "code",
   "execution_count": 47,
   "metadata": {},
   "outputs": [
    {
     "data": {
      "text/html": [
       "<div>\n",
       "<style scoped>\n",
       "    .dataframe tbody tr th:only-of-type {\n",
       "        vertical-align: middle;\n",
       "    }\n",
       "\n",
       "    .dataframe tbody tr th {\n",
       "        vertical-align: top;\n",
       "    }\n",
       "\n",
       "    .dataframe thead th {\n",
       "        text-align: right;\n",
       "    }\n",
       "</style>\n",
       "<table border=\"1\" class=\"dataframe\">\n",
       "  <thead>\n",
       "    <tr style=\"text-align: right;\">\n",
       "      <th></th>\n",
       "      <th>visit_HomePage</th>\n",
       "      <th>visit_SearchPage</th>\n",
       "      <th>visit_PayPage</th>\n",
       "      <th>visit_PayConfirmPage</th>\n",
       "    </tr>\n",
       "    <tr>\n",
       "      <th>sex</th>\n",
       "      <th></th>\n",
       "      <th></th>\n",
       "      <th></th>\n",
       "      <th></th>\n",
       "    </tr>\n",
       "  </thead>\n",
       "  <tbody>\n",
       "    <tr>\n",
       "      <th>Female</th>\n",
       "      <td>1.0</td>\n",
       "      <td>0.503073</td>\n",
       "      <td>0.068774</td>\n",
       "      <td>0.005347</td>\n",
       "    </tr>\n",
       "    <tr>\n",
       "      <th>Male</th>\n",
       "      <td>1.0</td>\n",
       "      <td>0.496944</td>\n",
       "      <td>0.064644</td>\n",
       "      <td>0.004655</td>\n",
       "    </tr>\n",
       "  </tbody>\n",
       "</table>\n",
       "</div>"
      ],
      "text/plain": [
       "        visit_HomePage  visit_SearchPage  visit_PayPage  visit_PayConfirmPage\n",
       "sex                                                                          \n",
       "Female             1.0          0.503073       0.068774              0.005347\n",
       "Male               1.0          0.496944       0.064644              0.004655"
      ]
     },
     "execution_count": 47,
     "metadata": {},
     "output_type": "execute_result"
    }
   ],
   "source": [
    "grouped = df.groupby('sex')[['visit_HomePage', 'visit_SearchPage', 'visit_PayPage', 'visit_PayConfirmPage']].mean()\n",
    "grouped"
   ]
  },
  {
   "cell_type": "code",
   "execution_count": 48,
   "metadata": {},
   "outputs": [
    {
     "data": {
      "image/png": "[encoded data removed]",
      "text/plain": [
       "<Figure size 648x360 with 1 Axes>"
      ]
     },
     "metadata": {
      "needs_background": "light"
     },
     "output_type": "display_data"
    }
   ],
   "source": [
    "ax = grouped.plot(kind='bar', figsize=(9, 5), title='Conversions for desktop and mobile')\n",
    "for tick in ax.get_xticklabels():\n",
    "    tick.set_rotation(0)"
   ]
  },
  {
   "cell_type": "markdown",
   "metadata": {},
   "source": [
    "Female has a little bit higher conversion rate than male, but not a very big difference."
   ]
  },
  {
   "cell_type": "markdown",
   "metadata": {},
   "source": [
    "The overall conversion rate of the company is only 0.6% (1.0% for mobile and 0.2% for desktop device respectively), which is quite low, some thoughts on further investigations to study the customers' behaviour and thus improve the conversion:\n",
    "1. Check the current system, especially for desktop device, any bugs that affect the user experience\n",
    "2. Further breakdown 'mobile' and 'desktop' by device(ISO, Android and so on) and by countries (using IP address maybe)\n",
    "3. Further study the customer profile, like age, countries, sources(referral, SEO, email compaign, etc.), to find target groups for the company, and follow up with them to improve conversion"
   ]
  },
  {
   "cell_type": "code",
   "execution_count": null,
   "metadata": {},
   "outputs": [],
   "source": []
  }
 ],
 "metadata": {
  "kernelspec": {
   "display_name": "Python 3",
   "language": "python",
   "name": "python3"
  },
  "language_info": {
   "codemirror_mode": {
    "name": "ipython",
    "version": 3
   },
   "file_extension": ".py",
   "mimetype": "text/x-python",
   "name": "python",
   "nbconvert_exporter": "python",
   "pygments_lexer": "ipython3",
   "version": "3.7.6"
  }
 },
 "nbformat": 4,
 "nbformat_minor": 4
}
